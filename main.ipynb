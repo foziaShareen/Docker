{
 "cells": [
  {
   "cell_type": "markdown",
   "metadata": {},
   "source": [
    "```mermaid\n",
    "%%{init: {'theme': 'dark'}}%%\n",
    "mindmap\n",
    "  root((Docker Image Download Guide))\n",
    "    step1(List Docker Images 1)\n",
    "    step2(Pull Ubuntu Image 2)\n",
    "    step3(List Docker Images Again 3)\n",
    "    step4(Run Ubuntu Container 4)\n",
    "    step5(Check Processes 5)\n",
    "    step6(Detach from Container 6)\n",
    "    step7(List Running Containers 7)\n",
    "    step8(Reattach to Container 8)\n",
    "    step9(Detach Again 9)\n",
    "    step10(List Running Containers Again 10)\n",
    "    step11(Stop the Container 11)\n",
    "    step12(Remove the Container 12)\n",
    "    step13(List All Containers 13)\n"
   ]
  }
 ],
 "metadata": {
  "kernelspec": {
   "display_name": "base",
   "language": "python",
   "name": "python3"
  },
  "language_info": {
   "codemirror_mode": {
    "name": "ipython",
    "version": 3
   },
   "file_extension": ".py",
   "mimetype": "text/x-python",
   "name": "python",
   "nbconvert_exporter": "python",
   "pygments_lexer": "ipython3",
   "version": "3.12.4"
  }
 },
 "nbformat": 4,
 "nbformat_minor": 2
}
